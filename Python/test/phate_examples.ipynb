{
 "cells": [
  {
   "cell_type": "code",
   "execution_count": 1,
   "metadata": {
    "collapsed": false
   },
   "outputs": [],
   "source": [
    "%matplotlib inline\n",
    "import phate\n",
    "import pandas as pd\n",
    "import numpy as np\n",
    "import matplotlib.pyplot as plt"
   ]
  },
  {
   "cell_type": "markdown",
   "metadata": {},
   "source": [
    "### Embedding DLA fractal tree"
   ]
  },
  {
   "cell_type": "code",
   "execution_count": null,
   "metadata": {
    "collapsed": false
   },
   "outputs": [
    {
     "name": "stdout",
     "output_type": "stream",
     "text": [
      "Bulding kNN graph and diffusion operator...\n",
      "Built graph and diffusion operator in 1.98 seconds.\n",
      "Calculating diffusion potential...\n",
      "Calculated diffusion potential in 2.59 seconds.\n",
      "Embedding data using classic MDS...\n",
      "Embedded data in 7.42 seconds.\n",
      "Finished PHATE embedding in 7.42 seconds.\n",
      "Using precomputed diffusion operator\n",
      "Using precomputed diffusion potential...\n",
      "Embedding data using metric MDS...\n",
      "Embedded data in 38.93 seconds.\n",
      "Finished PHATE embedding in 38.93 seconds.\n",
      "Using precomputed diffusion operator\n",
      "Using precomputed diffusion potential...\n",
      "Embedding data using nonmetric MDS...\n"
     ]
    }
   ],
   "source": [
    "#generate DLA tree\n",
    "M, C = phate.tree.gen_dla(n_dim = 100, n_branch = 20, branch_length = 100,n_drop = 0, rand_multiplier = 2, seed=37, sigma = 4)\n",
    "\n",
    "#instantiate phate_operator\n",
    "phate_operator = phate.PHATE(n_components=2, a=10, k=5, t=30, mds='classic', knn_dist='euclidean', mds_dist='euclidean', njobs=3)\n",
    "\n",
    "#run phate with classic MDS\n",
    "Y_cmds = phate_operator.fit_transform(M)\n",
    "\n",
    "#run phate with metric MDS\n",
    "phate_operator.reset_mds(mds=\"metric\")\n",
    "Y_mmds = phate_operator.fit_transform(M)\n",
    "\n",
    "#run phate with nonmetric MDS\n",
    "phate_operator.reset_mds(mds=\"nonmetric\")\n",
    "Y_nmmds = phate_operator.fit_transform(M)"
   ]
  },
  {
   "cell_type": "code",
   "execution_count": null,
   "metadata": {
    "collapsed": false
   },
   "outputs": [],
   "source": [
    "#plot\n",
    "f, (ax1, ax2, ax3) = plt.subplots(3)\n",
    "\n",
    "ax1.scatter(Y_cmds[:,0], Y_cmds[:, 1], s=10, c=C)\n",
    "ax1.set_xlabel(\"phate 1\")\n",
    "ax1.set_ylabel(\"phate 2\")\n",
    "ax1.set_title(\"PHATE embedding of DLA fractal tree - Classic MDS\")\n",
    "\n",
    "ax2.scatter(Y_mmds[:,0], Y_mmds[:, 1], s=10, c=C)\n",
    "ax2.set_xlabel(\"phate 1\")\n",
    "ax2.set_ylabel(\"phate 2\")\n",
    "ax2.set_title(\"PHATE embedding of DLA fractal tree - Metric MDS\")\n",
    "\n",
    "ax3.scatter(Y_nmmds[:,0], Y_nmmds[:, 1], s=10, c=C)\n",
    "ax3.set_xlabel(\"phate 1\")\n",
    "ax3.set_ylabel(\"phate 2\")\n",
    "ax3.set_title(\"PHATE embedding of DLA fractal tree - Nonmetric MDS\")"
   ]
  },
  {
   "cell_type": "markdown",
   "metadata": {},
   "source": [
    "### Embedding mESC"
   ]
  },
  {
   "cell_type": "code",
   "execution_count": null,
   "metadata": {
    "collapsed": false
   },
   "outputs": [],
   "source": []
  },
  {
   "cell_type": "code",
   "execution_count": 9,
   "metadata": {
    "collapsed": false
   },
   "outputs": [
    {
     "data": {
      "text/plain": [
       "array([[  5.11990853e-02,   5.14902780e-03,   1.48917990e-02, ...,\n",
       "          1.46130092e-24,   1.65038329e-30,   5.75066806e-42],\n",
       "       [  6.90929955e-03,   6.87022543e-02,   1.44237890e-02, ...,\n",
       "          2.39064642e-24,   1.14413506e-27,   9.14775334e-27],\n",
       "       [  1.39694698e-02,   1.00833150e-02,   4.80280507e-02, ...,\n",
       "          1.19782906e-21,   4.27276015e-21,   3.11840157e-23],\n",
       "       ..., \n",
       "       [  3.39295030e-24,   4.13660834e-24,   2.96483090e-21, ...,\n",
       "          1.18877604e-01,   3.58162639e-02,   4.00623948e-02],\n",
       "       [  8.33844506e-30,   4.30793126e-27,   2.30131469e-20, ...,\n",
       "          7.79368223e-02,   2.58679764e-01,   1.58826405e-01],\n",
       "       [  1.60684771e-41,   1.90485568e-26,   9.28871634e-23, ...,\n",
       "          4.82120372e-02,   8.78372779e-02,   1.43060132e-01]])"
      ]
     },
     "execution_count": 9,
     "metadata": {},
     "output_type": "execute_result"
    }
   ],
   "source": []
  },
  {
   "cell_type": "code",
   "execution_count": null,
   "metadata": {
    "collapsed": true
   },
   "outputs": [],
   "source": []
  }
 ],
 "metadata": {
  "kernelspec": {
   "display_name": "Python 3",
   "language": "python",
   "name": "python3"
  },
  "language_info": {
   "codemirror_mode": {
    "name": "ipython",
    "version": 3
   },
   "file_extension": ".py",
   "mimetype": "text/x-python",
   "name": "python",
   "nbconvert_exporter": "python",
   "pygments_lexer": "ipython3",
   "version": "3.6.0"
  }
 },
 "nbformat": 4,
 "nbformat_minor": 2
}
